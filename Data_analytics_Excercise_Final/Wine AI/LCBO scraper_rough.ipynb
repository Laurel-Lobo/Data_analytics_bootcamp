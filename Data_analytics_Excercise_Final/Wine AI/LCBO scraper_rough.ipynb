{
 "cells": [
  {
   "cell_type": "code",
   "execution_count": 75,
   "metadata": {},
   "outputs": [],
   "source": [
    "import pandas as pd\n",
    "import numpy as np\n",
    "from bs4 import BeautifulSoup as bs\n",
    "import requests\n",
    "import re\n",
    "\n",
    "from pprint import pprint"
   ]
  },
  {
   "cell_type": "code",
   "execution_count": 2,
   "metadata": {},
   "outputs": [],
   "source": [
    "#index = 0\n",
    "\n",
    "hdr = {'User-Agent': 'Mozilla/5.0 (Windows; U; Windows NT 5.1; en-US; rv:1.9.0.7) Gecko/2009021910 Firefox/3.0.7'}\n",
    "url = 'https://www.lcbo.com/webapp/wcs/stores/servlet/en/lcbo/wine-14?pageView=grid&orderBy=5&fromPage=catalogEntryList&beginIndex=0'\n"
   ]
  },
  {
   "cell_type": "code",
   "execution_count": 3,
   "metadata": {},
   "outputs": [
    {
     "name": "stdout",
     "output_type": "stream",
     "text": [
      "<Response [200]>\n"
     ]
    }
   ],
   "source": [
    "response = requests.get(url, headers=hdr)\n",
    "\n",
    "print(response)"
   ]
  },
  {
   "cell_type": "code",
   "execution_count": 4,
   "metadata": {},
   "outputs": [],
   "source": [
    "soup = bs(response.text, 'lxml')\n"
   ]
  },
  {
   "cell_type": "code",
   "execution_count": 111,
   "metadata": {
    "scrolled": false
   },
   "outputs": [],
   "source": [
    "products = soup.find('div', class_= \"product_listing_container\")"
   ]
  },
  {
   "cell_type": "code",
   "execution_count": 114,
   "metadata": {},
   "outputs": [
    {
     "name": "stdout",
     "output_type": "stream",
     "text": [
      "['Sogrape Mateus Rosé', 'Blue Nun Deutscher Tafelwein', 'Folonari Valpolicella Classico DOC', 'Mouton Cadet Bordeaux Red AOC', 'Andrès Baby Duck', 'Fontana Di Papa White', 'Flat Rock Twisted White', 'Spumante Bambino', 'Susana Balbo Crios Torrontés', 'Mouton Cadet Bordeaux White AOC', 'Pisse-Dru Beaujolais', 'Fontana Di Papa Red']\n"
     ]
    }
   ],
   "source": [
    "#code to extract names in the page\n",
    "product_names = []\n",
    "names = products.find_all('div', class_=\"product_name\")\n",
    "product_names.extend(name.text.replace('\\n','') for name in names)\n",
    "\n",
    "print(product_names)"
   ]
  },
  {
   "cell_type": "code",
   "execution_count": 116,
   "metadata": {},
   "outputs": [
    {
     "name": "stdout",
     "output_type": "stream",
     "text": [
      "[8.95, 9.45, 14.95, 16.45, 12.6, 14.7, 17.95, 9.45, 14.95, 15.95, 13.95, 14.7]\n"
     ]
    }
   ],
   "source": [
    "#code to extract prices from the page\n",
    "product_prices = []\n",
    "prices = products.find_all('span', class_=\"price\")\n",
    "product_prices.extend(float(price.text.replace('\\n', '').replace('\\t','').replace('$','')) for price in prices)\n",
    "\n",
    "print(product_prices)"
   ]
  },
  {
   "cell_type": "code",
   "execution_count": 136,
   "metadata": {},
   "outputs": [
    {
     "name": "stdout",
     "output_type": "stream",
     "text": [
      "https://www.lcbo.com/webapp/wcs/stores/servlet/en/lcbo/wine-14/sogrape-mateus-ros%C3%A9-166-1\n",
      "https://www.lcbo.com/webapp/wcs/stores/servlet/en/lcbo/wine-14/blue-nun-deutscher-tafelwein-729-1\n",
      "https://www.lcbo.com/webapp/wcs/stores/servlet/en/lcbo/wine-14/folonari-valpolicella-classico-doc-828-1\n",
      "https://www.lcbo.com/webapp/wcs/stores/servlet/en/lcbo/wine-14/mouton-cadet-bordeaux-red-aoc-943-1\n",
      "https://www.lcbo.com/webapp/wcs/stores/servlet/en/lcbo/wine-14/andr%C3%A8s-baby-duck-1123-1\n",
      "https://www.lcbo.com/webapp/wcs/stores/servlet/en/lcbo/wine-14/fontana-di-papa-white-1511-1\n",
      "https://www.lcbo.com/webapp/wcs/stores/servlet/en/lcbo/wine-14/flat-rock-twisted-white-1578-1\n",
      "https://www.lcbo.com/webapp/wcs/stores/servlet/en/lcbo/wine-14/spumante-bambino-1826-1\n",
      "https://www.lcbo.com/webapp/wcs/stores/servlet/en/lcbo/wine-14/susana-balbo-crios-torront%C3%A9s-1834-1\n",
      "https://www.lcbo.com/webapp/wcs/stores/servlet/en/lcbo/wine-14/mouton-cadet-bordeaux-white-aoc-2527-1\n",
      "https://www.lcbo.com/webapp/wcs/stores/servlet/en/lcbo/wine-14/pisse-dru-beaujolais-2881-1\n",
      "https://www.lcbo.com/webapp/wcs/stores/servlet/en/lcbo/wine-14/fontana-di-papa-red-3038-1\n"
     ]
    }
   ],
   "source": [
    "#code to extract description urls\n",
    "product_descs = []\n",
    "product_descs.extend(str(name.find('a')['href']) for name in names)\n",
    "\n",
    "#print(products)\n",
    "for x in product_descs:\n",
    "    print(x)\n"
   ]
  },
  {
   "cell_type": "code",
   "execution_count": 129,
   "metadata": {},
   "outputs": [
    {
     "name": "stdout",
     "output_type": "stream",
     "text": [
      "Mateus Rosé, in the iconic flask-shaped bottle, has introduced generations to the world of wine with a fresh, lightly sparkling and versatile style. Pale salmon in colour with strawberry and raspberry aromas and flavours. Off-dry and lightly sparkling with a flavourful, soft finish; serve well-chilled with appetizers.\n"
     ]
    }
   ],
   "source": [
    "#code to extract picture urls\n",
    "x = product_descs[0]\n",
    "\n",
    "url = x\n",
    "response = requests.get(url, headers=hdr)\n",
    "soup = bs(response.text, 'lxml')\n",
    "text = soup.find('p', class_= \"hidden-xs\").text\n",
    "print(text)"
   ]
  },
  {
   "cell_type": "code",
   "execution_count": 133,
   "metadata": {},
   "outputs": [
    {
     "name": "stdout",
     "output_type": "stream",
     "text": [
      "it's not there :(\n"
     ]
    }
   ],
   "source": [
    "#tester for upper limit of pages\n",
    "\n",
    "url = 'https://www.lcbo.com/webapp/wcs/stores/servlet/en/lcbo/wine-14?pageView=grid&orderBy=5&fromPage=catalogEntryList&beginIndex=10020'\n",
    "\n",
    "response = requests.get(url, headers=hdr)\n",
    "soup = bs(response.text, 'lxml')\n",
    "products = soup.find('div', class_= \"product_listing_container\")\n",
    "\n",
    "if products.find('div', class_=\"product_name\"):\n",
    "    print(\"it's there!\")\n",
    "else:\n",
    "    print(\"it's not there :(\")"
   ]
  },
  {
   "cell_type": "code",
   "execution_count": 141,
   "metadata": {},
   "outputs": [
    {
     "name": "stdout",
     "output_type": "stream",
     "text": [
      "Mateus Rosé, in the iconic flask-shaped bottle, has introduced generations to the world of wine with a fresh, lightly sparkling and versatile style. Pale salmon in colour with strawberry and raspberry aromas and flavours. Off-dry and lightly sparkling with a flavourful, soft finish; serve well-chilled with appetizers.\n",
      "--------------------\n",
      "This top-selling wine phenomenon is back in a new and improved style. Nose is enticingly aromatic and floral with fruity notes of peach, citrus, apple and pear. The palate has a delicate sweetness,  with luscious but balanced flavours of apple/pear, lime and peach. Refreshing, mineral-like acidity on the long lively finish.\n",
      "--------------------\n",
      "Valpolicella is the classic red wine of Italy's Veneto region; a blend of local grape varieties that combine to give forward berry fruit and a supple approachable structure. Ruby red in colour, with cherry and spice aromas. On the palate, expect a light body, soft berry flavours and a crisp, food-friendly finish.\n",
      "--------------------\n",
      "From France's leading wine family, a wine that has been the world's introduction to the Bordeaux region since 1930. Merlot is dominant, contributing forward berry fruit. Cabernet sauvignon brings structure and cabernet franc adds elegance and finesse. Serve with pork tenderloin, duck breast or a selection of cheeses.\n",
      "--------------------\n",
      "Launched in the 1970s, Baby Duck once dominated Ontario's burgeoning wine market. It still holds its own, with forward sweet fruit and lively bubbles. Enjoy aromas and flavours of sweet table grapes and ripe pear. Serve well-chilled with Asian cuisine, jerk chicken or smoky barbecue.\n",
      "--------------------\n",
      "The grapes for this light and refreshing wine are grown on volcanic soils in the hills just southeast of the city of Rome. This is a delicate and lightly fruity wine that excels as a partner for chicken, fish and light cuisine. Enjoy citrus and herbal flavours, with a soft minerally note on the finish.\n",
      "--------------------\n",
      "None\n",
      "--------------------\n",
      "This vivacious sparkler has been a favourite in Ontario since the early 1980s, gaining fame with its casual, fruity character and a series of zany TV commercials. It has aromas and flavours of sweet table grapes and ripe apple, along with light floral notes. Serve with fried chicken or a selection of savoury appetizers.\n",
      "--------------------\n",
      "Susana Balbo has been called the 'Evita of Wine' and the 'Queen of Torrontés.' Her Crios Torrontés is floral and fruity with apple blossom, peach, orange citrus and lime. Argentina's signature grape will work with smoked meats or seafood.\n",
      "--------------------\n",
      "From France's leading wine family, a wine that has been the world's introduction to the Bordeaux region since 1930. A blend of sauvignon blanc, sémillon and muscadelle showing flavours of citrus and soft pear with lightly floral and herbaceous notes. Serve with seafood pasta, shellfish or salads.\n",
      "--------------------\n",
      "The mischievous name of this wine is an old expression describing how readily juice runs from grapes that are well-ripened. Its light-bodied, and food-friendly, with appealing berry fruit flavours and a balanced , dry finish. A straightforward, juicy and reliable accompaniment for burgers, cold chicken or charcuterie.\n",
      "--------------------\n",
      "The grapes for this food-friendly wine are grown on volcanic soils in the hills just southeast of the city of Rome. It is a light ruby colour, with aromas and flavours of strawberries, cherries and flowers. Light-bodied and fruity, with silky tannins, this is well-suited for grilled meats, pizza, pasta and firm cheeses.\n",
      "--------------------\n"
     ]
    }
   ],
   "source": [
    "descriptions = []\n",
    "for x in product_descs:\n",
    "    url = x\n",
    "    response = requests.get(url, headers=hdr)\n",
    "    soup = bs(response.text, 'lxml')\n",
    "    if soup.find('p', class_=\"hidden-xs\"):\n",
    "        text = soup.find('p', class_= \"hidden-xs\").text\n",
    "    else:\n",
    "        text = 'N/A'\n",
    "    descriptions.append(text)\n",
    "\n",
    "for i in descriptions:\n",
    "    print(i)\n",
    "    print('--------------------')"
   ]
  }
 ],
 "metadata": {
  "kernelspec": {
   "display_name": "Python 3",
   "language": "python",
   "name": "python3"
  },
  "language_info": {
   "codemirror_mode": {
    "name": "ipython",
    "version": 3
   },
   "file_extension": ".py",
   "mimetype": "text/x-python",
   "name": "python",
   "nbconvert_exporter": "python",
   "pygments_lexer": "ipython3",
   "version": "3.7.0"
  }
 },
 "nbformat": 4,
 "nbformat_minor": 2
}
